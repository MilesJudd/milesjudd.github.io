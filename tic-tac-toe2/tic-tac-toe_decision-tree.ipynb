{
 "cells": [
  {
   "cell_type": "code",
   "execution_count": 1,
   "metadata": {},
   "outputs": [
    {
     "data": {
      "text/plain": [
       "['tictactoe_model.pkl']"
      ]
     },
     "execution_count": 1,
     "metadata": {},
     "output_type": "execute_result"
    }
   ],
   "source": [
    "# Format: [board_state, optimal_move]\n",
    "# board_state: 3x3 grid flattened into a 9-element array (0 = empty, 1 = X, 2 = O)\n",
    "# optimal_move: position to play (0-8)\n",
    "\n",
    "dataset = [\n",
    "    # Empty board: Optimal move is center\n",
    "    ([0, 0, 0, 0, 0, 0, 0, 0, 0], 4),\n",
    "\n",
    "    # X in corner: Optimal move is center\n",
    "    ([1, 0, 0, 0, 0, 0, 0, 0, 0], 4),\n",
    "    ([0, 0, 1, 0, 0, 0, 0, 0, 0], 4),\n",
    "    ([0, 0, 0, 0, 0, 0, 1, 0, 0], 4),\n",
    "    ([0, 0, 0, 0, 0, 0, 0, 0, 1], 4),\n",
    "\n",
    "    # X in center: Optimal move is corner\n",
    "    ([0, 0, 0, 0, 1, 0, 0, 0, 0], 0),\n",
    "\n",
    "    # X in center, O in corner: Optimal move is opposite corner\n",
    "    ([0, 0, 0, 0, 1, 0, 0, 0, 2], 8),\n",
    "    ([0, 0, 2, 0, 1, 0, 0, 0, 0], 6),\n",
    "\n",
    "    # X about to win: Block or win\n",
    "    ([1, 1, 0, 0, 0, 0, 0, 0, 0], 2),  # X can win by playing 2\n",
    "    ([0, 0, 0, 1, 1, 0, 0, 0, 0], 3),  # X can win by playing 3\n",
    "    ([0, 0, 0, 0, 0, 0, 1, 1, 0], 8),  # X can win by playing 8\n",
    "    ([1, 0, 0, 1, 0, 0, 0, 0, 0], 6),  # X can win by playing 6\n",
    "    ([0, 1, 0, 0, 1, 0, 0, 0, 0], 7),  # X can win by playing 7\n",
    "    ([0, 0, 1, 0, 0, 1, 0, 0, 0], 8),  # X can win by playing 8\n",
    "    ([1, 0, 0, 0, 1, 0, 0, 0, 0], 8),  # X can win by playing 8\n",
    "    ([0, 0, 1, 0, 1, 0, 0, 0, 0], 6),  # X can win by playing 6\n",
    "\n",
    "    # O about to win: Block\n",
    "    ([2, 2, 0, 0, 0, 0, 0, 0, 0], 2),  # O can win by playing 2\n",
    "    ([0, 0, 0, 2, 2, 0, 0, 0, 0], 3),  # O can win by playing 3\n",
    "    ([0, 0, 0, 0, 0, 0, 2, 2, 0], 8),  # O can win by playing 8\n",
    "    ([2, 0, 0, 2, 0, 0, 0, 0, 0], 6),  # O can win by playing 6\n",
    "    ([0, 2, 0, 0, 2, 0, 0, 0, 0], 7),  # O can win by playing 7\n",
    "    ([0, 0, 2, 0, 0, 2, 0, 0, 0], 8),  # O can win by playing 8\n",
    "    ([2, 0, 0, 0, 2, 0, 0, 0, 0], 8),  # O can win by playing 8\n",
    "    ([0, 0, 2, 0, 2, 0, 0, 0, 0], 6),  # O can win by playing 6\n",
    "\n",
    "    # Fork situations: Create two winning opportunities\n",
    "    ([1, 0, 0, 0, 2, 0, 0, 0, 1], 2),  # X can create a fork by playing 2\n",
    "    ([0, 0, 1, 0, 2, 0, 1, 0, 0], 0),  # X can create a fork by playing 0\n",
    "\n",
    "    # Block opponent's fork\n",
    "    ([2, 0, 0, 0, 1, 0, 0, 0, 2], 6),  # O can block X's fork by playing 6\n",
    "    ([0, 0, 2, 0, 1, 0, 2, 0, 0], 0),  # O can block X's fork by playing 0\n",
    "]\n",
    "\n",
    "# Convert to numpy arrays for training\n",
    "import numpy as np\n",
    "X = np.array([x for x, y in dataset])\n",
    "y = np.array([y for x, y in dataset])\n",
    "\n",
    "\n",
    "from sklearn.tree import DecisionTreeClassifier\n",
    "\n",
    "# Train the model\n",
    "model = DecisionTreeClassifier()\n",
    "model.fit(X, y)\n",
    "\n",
    "# Save the model\n",
    "import joblib\n",
    "joblib.dump(model, \"tictactoe_model.pkl\")"
   ]
  },
  {
   "cell_type": "code",
   "execution_count": 3,
   "metadata": {},
   "outputs": [],
   "source": [
    "import m2cgen as m2c\n",
    "import joblib\n",
    "\n",
    "# Load the trained model\n",
    "model = joblib.load(\"tictactoe_model.pkl\")\n",
    "\n",
    "# Convert the model to JavaScript\n",
    "js_code = m2c.export_to_javascript(model)\n",
    "\n",
    "# Save the JavaScript model\n",
    "with open(\"tictactoe_model.js\", \"w\") as f:\n",
    "    f.write(js_code)"
   ]
  },
  {
   "cell_type": "markdown",
   "metadata": {},
   "source": []
  }
 ],
 "metadata": {
  "kernelspec": {
   "display_name": ".venv",
   "language": "python",
   "name": "python3"
  },
  "language_info": {
   "codemirror_mode": {
    "name": "ipython",
    "version": 3
   },
   "file_extension": ".py",
   "mimetype": "text/x-python",
   "name": "python",
   "nbconvert_exporter": "python",
   "pygments_lexer": "ipython3",
   "version": "3.9.13"
  }
 },
 "nbformat": 4,
 "nbformat_minor": 2
}

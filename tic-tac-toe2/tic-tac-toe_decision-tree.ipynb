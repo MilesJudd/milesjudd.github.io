{
 "cells": [
  {
   "cell_type": "code",
   "execution_count": 1,
   "metadata": {},
   "outputs": [],
   "source": [
    "# Format: [board_state, optimal_move]\n",
    "# board_state: 3x3 grid flattened into a 9-element array (0 = empty, 1 = X, 2 = O)\n",
    "# optimal_move: position to play (0-8)\n",
    "\n",
    "dataset = [\n",
    "    # Empty board: Optimal move is center\n",
    "    ([0, 0, 0, 0, 0, 0, 0, 0, 0], 4),\n",
    "\n",
    "    # X in corner: Optimal move is center\n",
    "    ([1, 0, 0, 0, 0, 0, 0, 0, 0], 4),\n",
    "    ([0, 0, 1, 0, 0, 0, 0, 0, 0], 4),\n",
    "    ([0, 0, 0, 0, 0, 0, 1, 0, 0], 4),\n",
    "    ([0, 0, 0, 0, 0, 0, 0, 0, 1], 4),\n",
    "\n",
    "    # X in center: Optimal move is corner\n",
    "    ([0, 0, 0, 0, 1, 0, 0, 0, 0], 0),\n",
    "\n",
    "    # X in center, O in corner: Optimal move is opposite corner\n",
    "    ([0, 0, 0, 0, 1, 0, 0, 0, 2], 8),\n",
    "    ([0, 0, 2, 0, 1, 0, 0, 0, 0], 6),\n",
    "\n",
    "    # X about to win: Block or win\n",
    "    ([1, 1, 0, 0, 0, 0, 0, 0, 0], 2),  # X can win by playing 2\n",
    "    ([0, 0, 0, 1, 1, 0, 0, 0, 0], 3),  # X can win by playing 3\n",
    "    ([0, 0, 0, 0, 0, 0, 1, 1, 0], 8),  # X can win by playing 8\n",
    "    ([1, 0, 0, 1, 0, 0, 0, 0, 0], 6),  # X can win by playing 6\n",
    "    ([0, 1, 0, 0, 1, 0, 0, 0, 0], 7),  # X can win by playing 7\n",
    "    ([0, 0, 1, 0, 0, 1, 0, 0, 0], 8),  # X can win by playing 8\n",
    "    ([1, 0, 0, 0, 1, 0, 0, 0, 0], 8),  # X can win by playing 8\n",
    "    ([0, 0, 1, 0, 1, 0, 0, 0, 0], 6),  # X can win by playing 6\n",
    "\n",
    "    # O about to win: Block\n",
    "    ([2, 2, 0, 0, 0, 0, 0, 0, 0], 2),  # O can win by playing 2\n",
    "    ([0, 0, 0, 2, 2, 0, 0, 0, 0], 3),  # O can win by playing 3\n",
    "    ([0, 0, 0, 0, 0, 0, 2, 2, 0], 8),  # O can win by playing 8\n",
    "    ([2, 0, 0, 2, 0, 0, 0, 0, 0], 6),  # O can win by playing 6\n",
    "    ([0, 2, 0, 0, 2, 0, 0, 0, 0], 7),  # O can win by playing 7\n",
    "    ([0, 0, 2, 0, 0, 2, 0, 0, 0], 8),  # O can win by playing 8\n",
    "    ([2, 0, 0, 0, 2, 0, 0, 0, 0], 8),  # O can win by playing 8\n",
    "    ([0, 0, 2, 0, 2, 0, 0, 0, 0], 6),  # O can win by playing 6\n",
    "\n",
    "    # Fork situations: Create two winning opportunities\n",
    "    ([1, 0, 0, 0, 2, 0, 0, 0, 1], 2),  # X can create a fork by playing 2\n",
    "    ([0, 0, 1, 0, 2, 0, 1, 0, 0], 0),  # X can create a fork by playing 0\n",
    "\n",
    "    # Block opponent's fork\n",
    "    ([2, 0, 0, 0, 1, 0, 0, 0, 2], 6),  # O can block X's fork by playing 6\n",
    "    ([0, 0, 2, 0, 1, 0, 2, 0, 0], 0),  # O can block X's fork by playing 0\n",
    "]\n",
    "\n",
    "# Convert to numpy arrays for training\n",
    "import numpy as np\n",
    "X = np.array([x for x, y in dataset])\n",
    "y = np.array([y for x, y in dataset])"
   ]
  },
  {
   "cell_type": "code",
   "execution_count": 2,
   "metadata": {},
   "outputs": [
    {
     "data": {
      "text/plain": [
       "['tictactoe_model.pkl']"
      ]
     },
     "execution_count": 2,
     "metadata": {},
     "output_type": "execute_result"
    }
   ],
   "source": [
    "from sklearn.tree import DecisionTreeClassifier\n",
    "\n",
    "# Train the model\n",
    "model = DecisionTreeClassifier()\n",
    "model.fit(X, y)\n",
    "\n",
    "# Save the model\n",
    "import joblib\n",
    "joblib.dump(model, \"tictactoe_model.pkl\")"
   ]
  },
  {
   "cell_type": "code",
   "execution_count": 6,
   "metadata": {},
   "outputs": [
    {
     "ename": "ModuleNotFoundError",
     "evalue": "No module named 'sklearn.tree.tree'",
     "output_type": "error",
     "traceback": [
      "\u001b[1;31m---------------------------------------------------------------------------\u001b[0m",
      "\u001b[1;31mModuleNotFoundError\u001b[0m                       Traceback (most recent call last)",
      "Cell \u001b[1;32mIn[6], line 2\u001b[0m\n\u001b[0;32m      1\u001b[0m \u001b[38;5;66;03m# convert the model to JavaScript\u001b[39;00m\n\u001b[1;32m----> 2\u001b[0m \u001b[38;5;28;01mfrom\u001b[39;00m\u001b[38;5;250m \u001b[39m\u001b[38;5;21;01msklearn_porter\u001b[39;00m\u001b[38;5;250m \u001b[39m\u001b[38;5;28;01mimport\u001b[39;00m Porter\n\u001b[0;32m      4\u001b[0m \u001b[38;5;66;03m# Load the trained model\u001b[39;00m\n\u001b[0;32m      5\u001b[0m model \u001b[38;5;241m=\u001b[39m joblib\u001b[38;5;241m.\u001b[39mload(\u001b[38;5;124m\"\u001b[39m\u001b[38;5;124mtictactoe_model.pkl\u001b[39m\u001b[38;5;124m\"\u001b[39m)\n",
      "File \u001b[1;32mc:\\Users\\kebl7233\\OneDrive - Nexus365\\10_Other\\milesjudd.github.io\\.venv\\lib\\site-packages\\sklearn_porter\\__init__.py:9\u001b[0m\n\u001b[0;32m      6\u001b[0m \u001b[38;5;28;01mfrom\u001b[39;00m\u001b[38;5;250m \u001b[39m\u001b[38;5;21;01mos\u001b[39;00m\u001b[38;5;21;01m.\u001b[39;00m\u001b[38;5;21;01mpath\u001b[39;00m\u001b[38;5;250m \u001b[39m\u001b[38;5;28;01mimport\u001b[39;00m join\n\u001b[0;32m      7\u001b[0m \u001b[38;5;28;01mfrom\u001b[39;00m\u001b[38;5;250m \u001b[39m\u001b[38;5;21;01mjson\u001b[39;00m\u001b[38;5;250m \u001b[39m\u001b[38;5;28;01mimport\u001b[39;00m load\n\u001b[1;32m----> 9\u001b[0m \u001b[38;5;28;01mfrom\u001b[39;00m\u001b[38;5;250m \u001b[39m\u001b[38;5;21;01msklearn_porter\u001b[39;00m\u001b[38;5;21;01m.\u001b[39;00m\u001b[38;5;21;01mPorter\u001b[39;00m\u001b[38;5;250m \u001b[39m\u001b[38;5;28;01mimport\u001b[39;00m Porter\n\u001b[0;32m     12\u001b[0m \u001b[38;5;28;01mdef\u001b[39;00m\u001b[38;5;250m \u001b[39m\u001b[38;5;21m_load_meta\u001b[39m(path):\n\u001b[0;32m     13\u001b[0m \u001b[38;5;250m    \u001b[39m\u001b[38;5;124;03m\"\"\"\u001b[39;00m\n\u001b[0;32m     14\u001b[0m \u001b[38;5;124;03m    Load meta data about this package from file pypi.json.\u001b[39;00m\n\u001b[0;32m     15\u001b[0m \u001b[38;5;124;03m    :param path: The path to pypi.json\u001b[39;00m\n\u001b[0;32m     16\u001b[0m \u001b[38;5;124;03m    :return: Dictionary of key value pairs.\u001b[39;00m\n\u001b[0;32m     17\u001b[0m \u001b[38;5;124;03m    \"\"\"\u001b[39;00m\n",
      "File \u001b[1;32mc:\\Users\\kebl7233\\OneDrive - Nexus365\\10_Other\\milesjudd.github.io\\.venv\\lib\\site-packages\\sklearn_porter\\Porter.py:10\u001b[0m\n\u001b[0;32m      7\u001b[0m \u001b[38;5;28;01mimport\u001b[39;00m\u001b[38;5;250m \u001b[39m\u001b[38;5;21;01mnumpy\u001b[39;00m\u001b[38;5;250m \u001b[39m\u001b[38;5;28;01mas\u001b[39;00m\u001b[38;5;250m \u001b[39m\u001b[38;5;21;01mnp\u001b[39;00m\n\u001b[0;32m      9\u001b[0m \u001b[38;5;28;01mfrom\u001b[39;00m\u001b[38;5;250m \u001b[39m\u001b[38;5;21;01msklearn\u001b[39;00m\u001b[38;5;21;01m.\u001b[39;00m\u001b[38;5;21;01mmetrics\u001b[39;00m\u001b[38;5;250m \u001b[39m\u001b[38;5;28;01mimport\u001b[39;00m accuracy_score\n\u001b[1;32m---> 10\u001b[0m \u001b[38;5;28;01mfrom\u001b[39;00m\u001b[38;5;250m \u001b[39m\u001b[38;5;21;01msklearn\u001b[39;00m\u001b[38;5;21;01m.\u001b[39;00m\u001b[38;5;21;01mtree\u001b[39;00m\u001b[38;5;21;01m.\u001b[39;00m\u001b[38;5;21;01mtree\u001b[39;00m\u001b[38;5;250m \u001b[39m\u001b[38;5;28;01mimport\u001b[39;00m DecisionTreeClassifier\n\u001b[0;32m     11\u001b[0m \u001b[38;5;28;01mfrom\u001b[39;00m\u001b[38;5;250m \u001b[39m\u001b[38;5;21;01msklearn\u001b[39;00m\u001b[38;5;21;01m.\u001b[39;00m\u001b[38;5;21;01mensemble\u001b[39;00m\u001b[38;5;21;01m.\u001b[39;00m\u001b[38;5;21;01mweight_boosting\u001b[39;00m\u001b[38;5;250m \u001b[39m\u001b[38;5;28;01mimport\u001b[39;00m AdaBoostClassifier\n\u001b[0;32m     12\u001b[0m \u001b[38;5;28;01mfrom\u001b[39;00m\u001b[38;5;250m \u001b[39m\u001b[38;5;21;01msklearn\u001b[39;00m\u001b[38;5;21;01m.\u001b[39;00m\u001b[38;5;21;01mensemble\u001b[39;00m\u001b[38;5;21;01m.\u001b[39;00m\u001b[38;5;21;01mforest\u001b[39;00m\u001b[38;5;250m \u001b[39m\u001b[38;5;28;01mimport\u001b[39;00m RandomForestClassifier\n",
      "\u001b[1;31mModuleNotFoundError\u001b[0m: No module named 'sklearn.tree.tree'"
     ]
    }
   ],
   "source": [
    "# convert the model to JavaScript\n",
    "from sklearn_porter import Porter\n",
    "\n",
    "# Load the trained model\n",
    "model = joblib.load(\"tictactoe_model.pkl\")\n",
    "\n",
    "# Convert the model to JavaScript\n",
    "porter = Porter(model, language='js')\n",
    "js_code = porter.export(embed_data=True)\n",
    "\n",
    "# Save the JavaScript model\n",
    "with open(\"tictactoe_model.js\", \"w\") as f:\n",
    "    f.write(js_code)"
   ]
  }
 ],
 "metadata": {
  "kernelspec": {
   "display_name": ".venv",
   "language": "python",
   "name": "python3"
  },
  "language_info": {
   "codemirror_mode": {
    "name": "ipython",
    "version": 3
   },
   "file_extension": ".py",
   "mimetype": "text/x-python",
   "name": "python",
   "nbconvert_exporter": "python",
   "pygments_lexer": "ipython3",
   "version": "3.9.13"
  }
 },
 "nbformat": 4,
 "nbformat_minor": 2
}
